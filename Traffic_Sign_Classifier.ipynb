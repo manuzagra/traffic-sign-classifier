{
 "cells": [
  {
   "cell_type": "markdown",
   "metadata": {},
   "source": [
    "# Self-Driving Car Engineer Nanodegree\n",
    "\n",
    "## Deep Learning\n",
    "\n",
    "## Project: Build a Traffic Sign Recognition Classifier\n",
    "\n",
    "In this notebook, a template is provided for you to implement your functionality in stages, which is required to successfully complete this project. If additional code is required that cannot be included in the notebook, be sure that the Python code is successfully imported and included in your submission if necessary. \n",
    "\n",
    "> **Note**: Once you have completed all of the code implementations, you need to finalize your work by exporting the iPython Notebook as an HTML document. Before exporting the notebook to html, all of the code cells need to have been run so that reviewers can see the final implementation and output. You can then export the notebook by using the menu above and navigating to  \\n\",\n",
    "    \"**File -> Download as -> HTML (.html)**. Include the finished document along with this notebook as your submission. \n",
    "\n",
    "In addition to implementing code, there is a writeup to complete. The writeup should be completed in a separate file, which can be either a markdown file or a pdf document. There is a [write up template](https://github.com/udacity/CarND-Traffic-Sign-Classifier-Project/blob/master/writeup_template.md) that can be used to guide the writing process. Completing the code template and writeup template will cover all of the [rubric points](https://review.udacity.com/#!/rubrics/481/view) for this project.\n",
    "\n",
    "The [rubric](https://review.udacity.com/#!/rubrics/481/view) contains \"Stand Out Suggestions\" for enhancing the project beyond the minimum requirements. The stand out suggestions are optional. If you decide to pursue the \"stand out suggestions\", you can include the code in this Ipython notebook and also discuss the results in the writeup file.\n",
    "\n",
    "\n",
    ">**Note:** Code and Markdown cells can be executed using the **Shift + Enter** keyboard shortcut. In addition, Markdown cells can be edited by typically double-clicking the cell to enter edit mode."
   ]
  },
  {
   "cell_type": "markdown",
   "metadata": {},
   "source": [
    "---\n",
    "## Step 0: Load The Data"
   ]
  },
  {
   "cell_type": "code",
   "execution_count": 1,
   "metadata": {},
   "outputs": [],
   "source": [
    "# Load pickled data\n",
    "import pickle\n",
    "\n",
    "# TODO: Fill this in based on where you saved the training and testing data\n",
    "training_file = './traffic-signs-data/train.p'\n",
    "validation_file = './traffic-signs-data/valid.p'\n",
    "testing_file = './traffic-signs-data/test.p'\n",
    "\n",
    "with open(training_file, mode='rb') as f:\n",
    "    train = pickle.load(f)\n",
    "with open(validation_file, mode='rb') as f:\n",
    "    valid = pickle.load(f)\n",
    "with open(testing_file, mode='rb') as f:\n",
    "    test = pickle.load(f)\n",
    "    \n",
    "X_train, y_train = train['features'], train['labels']\n",
    "X_valid, y_valid = valid['features'], valid['labels']\n",
    "X_test, y_test = test['features'], test['labels']"
   ]
  },
  {
   "cell_type": "markdown",
   "metadata": {},
   "source": [
    "---\n",
    "\n",
    "## Step 1: Dataset Summary & Exploration\n",
    "\n",
    "The pickled data is a dictionary with 4 key/value pairs:\n",
    "\n",
    "- `'features'` is a 4D array containing raw pixel data of the traffic sign images, (num examples, width, height, channels).\n",
    "- `'labels'` is a 1D array containing the label/class id of the traffic sign. The file `signnames.csv` contains id -> name mappings for each id.\n",
    "- `'sizes'` is a list containing tuples, (width, height) representing the original width and height the image.\n",
    "- `'coords'` is a list containing tuples, (x1, y1, x2, y2) representing coordinates of a bounding box around the sign in the image. **THESE COORDINATES ASSUME THE ORIGINAL IMAGE. THE PICKLED DATA CONTAINS RESIZED VERSIONS (32 by 32) OF THESE IMAGES**\n",
    "\n",
    "Complete the basic data summary below. Use python, numpy and/or pandas methods to calculate the data summary rather than hard coding the results. For example, the [pandas shape method](http://pandas.pydata.org/pandas-docs/stable/generated/pandas.DataFrame.shape.html) might be useful for calculating some of the summary results. "
   ]
  },
  {
   "cell_type": "markdown",
   "metadata": {},
   "source": [
    "### Provide a Basic Summary of the Data Set Using Python, Numpy and/or Pandas"
   ]
  },
  {
   "cell_type": "code",
   "execution_count": 51,
   "metadata": {},
   "outputs": [
    {
     "name": "stdout",
     "output_type": "stream",
     "text": [
      "Number of training examples = 34799\n",
      "Number of testing examples = 12630\n",
      "Image data shape = (32, 32, 3)\n",
      "Number of classes = 43\n"
     ]
    }
   ],
   "source": [
    "### Replace each question mark with the appropriate value. \n",
    "### Use python, pandas or numpy methods rather than hard coding the results\n",
    "\n",
    "# TODO: Number of training examples\n",
    "n_train = X_train.shape[0]\n",
    "\n",
    "# TODO: Number of validation examples\n",
    "n_validation = X_valid.shape[0]\n",
    "\n",
    "# TODO: Number of testing examples.\n",
    "n_test = X_test.shape[0]\n",
    "\n",
    "# TODO: What's the shape of an traffic sign image?\n",
    "image_shape = X_train.shape[1:]\n",
    "\n",
    "# TODO: How many unique classes/labels there are in the dataset.\n",
    "n_classes = len(set(y_train))\n",
    "\n",
    "print(\"Number of training examples =\", n_train)\n",
    "print(\"Number of testing examples =\", n_test)\n",
    "print(\"Image data shape =\", image_shape)\n",
    "print(\"Number of classes =\", n_classes)"
   ]
  },
  {
   "cell_type": "markdown",
   "metadata": {},
   "source": [
    "### Include an exploratory visualization of the dataset"
   ]
  },
  {
   "cell_type": "markdown",
   "metadata": {},
   "source": [
    "Visualize the German Traffic Signs Dataset using the pickled file(s). This is open ended, suggestions include: plotting traffic sign images, plotting the count of each sign, etc. \n",
    "\n",
    "The [Matplotlib](http://matplotlib.org/) [examples](http://matplotlib.org/examples/index.html) and [gallery](http://matplotlib.org/gallery.html) pages are a great resource for doing visualizations in Python.\n",
    "\n",
    "**NOTE:** It's recommended you start with something simple first. If you wish to do more, come back to it after you've completed the rest of the sections. It can be interesting to look at the distribution of classes in the training, validation and test set. Is the distribution the same? Are there more examples of some classes than others?"
   ]
  },
  {
   "cell_type": "code",
   "execution_count": 52,
   "metadata": {},
   "outputs": [],
   "source": [
    "### Data exploration visualization code goes here.\n",
    "### Feel free to use as many code cells as needed.\n",
    "import matplotlib.pyplot as plt\n",
    "# Visualizations will be shown in the notebook.\n",
    "%matplotlib inline"
   ]
  },
  {
   "cell_type": "code",
   "execution_count": 53,
   "metadata": {},
   "outputs": [
    {
     "data": {
      "text/plain": [
       "<Container object of 43 artists>"
      ]
     },
     "execution_count": 53,
     "metadata": {},
     "output_type": "execute_result"
    },
    {
     "data": {
      "image/png": "[encoded data removed]",
      "text/plain": [
       "<matplotlib.figure.Figure at 0x7fdb70c9b908>"
      ]
     },
     "metadata": {
      "needs_background": "light"
     },
     "output_type": "display_data"
    }
   ],
   "source": [
    "import numpy as np\n",
    "# Calculate the class distribution\n",
    "class_distribution = []\n",
    "for c in set(y_train):\n",
    "    class_distribution.append([c, y_train[y_train==c].shape[0]])\n",
    "class_distribution = np.array(class_distribution)\n",
    "# plot it in a bar plot\n",
    "plt.bar(class_distribution[:,0], class_distribution[:,1])"
   ]
  },
  {
   "cell_type": "markdown",
   "metadata": {},
   "source": [
    "----\n",
    "\n",
    "## Step 2: Design and Test a Model Architecture\n",
    "\n",
    "Design and implement a deep learning model that learns to recognize traffic signs. Train and test your model on the [German Traffic Sign Dataset](http://benchmark.ini.rub.de/?section=gtsrb&subsection=dataset).\n",
    "\n",
    "The LeNet-5 implementation shown in the [classroom](https://classroom.udacity.com/nanodegrees/nd013/parts/fbf77062-5703-404e-b60c-95b78b2f3f9e/modules/6df7ae49-c61c-4bb2-a23e-6527e69209ec/lessons/601ae704-1035-4287-8b11-e2c2716217ad/concepts/d4aca031-508f-4e0b-b493-e7b706120f81) at the end of the CNN lesson is a solid starting point. You'll have to change the number of classes and possibly the preprocessing, but aside from that it's plug and play! \n",
    "\n",
    "With the LeNet-5 solution from the lecture, you should expect a validation set accuracy of about 0.89. To meet specifications, the validation set accuracy will need to be at least 0.93. It is possible to get an even higher accuracy, but 0.93 is the minimum for a successful project submission. \n",
    "\n",
    "There are various aspects to consider when thinking about this problem:\n",
    "\n",
    "- Neural network architecture (is the network over or underfitting?)\n",
    "- Play around preprocessing techniques (normalization, rgb to grayscale, etc)\n",
    "- Number of examples per label (some have more than others).\n",
    "- Generate fake data.\n",
    "\n",
    "Here is an example of a [published baseline model on this problem](http://yann.lecun.com/exdb/publis/pdf/sermanet-ijcnn-11.pdf). It's not required to be familiar with the approach used in the paper but, it's good practice to try to read papers like these."
   ]
  },
  {
   "cell_type": "markdown",
   "metadata": {},
   "source": [
    "### Pre-process the Data Set (normalization, grayscale, etc.)"
   ]
  },
  {
   "cell_type": "markdown",
   "metadata": {},
   "source": [
    "Minimally, the image data should be normalized so that the data has mean zero and equal variance. For image data, `(pixel - 128)/ 128` is a quick way to approximately normalize the data and can be used in this project. \n",
    "\n",
    "Other pre-processing steps are optional. You can try different techniques to see if it improves performance. \n",
    "\n",
    "Use the code cell (or multiple code cells, if necessary) to implement the first step of your project."
   ]
  },
  {
   "cell_type": "code",
   "execution_count": 54,
   "metadata": {},
   "outputs": [],
   "source": [
    "### Preprocess the data here. It is required to normalize the data. Other preprocessing steps could include \n",
    "### converting to grayscale, etc.\n",
    "### Feel free to use as many code cells as needed.\n",
    "\n",
    "from sklearn.utils import shuffle\n",
    "\n",
    "# shuffle the training sets\n",
    "X_train, y_train = shuffle(X_train, y_train)\n",
    "\n",
    "# the preprocess it is going to be part of the cnn"
   ]
  },
  {
   "cell_type": "markdown",
   "metadata": {},
   "source": [
    "### Model Architecture"
   ]
  },
  {
   "cell_type": "code",
   "execution_count": 120,
   "metadata": {},
   "outputs": [],
   "source": [
    "# import tensorflow\n",
    "import tensorflow as tf\n",
    "\n",
    "\n",
    "def zero_variable(shape):\n",
    "    mu = 0\n",
    "    sigma = 0.1\n",
    "    return tf.Variable(tf.zeros(shape=shape))\n",
    "\n",
    "\n",
    "def random_variable(shape):\n",
    "    mu = 0\n",
    "    sigma = 0.1\n",
    "    return tf.Variable(tf.truncated_normal(shape=shape, mean=mu, stddev=sigma))\n",
    "\n",
    "def convolutonal_layer(x, w, b, strides, padding, activation=None):\n",
    "    conv = tf.nn.conv2d(x, w, strides=strides, padding=padding)\n",
    "    conv = tf.nn.bias_add(conv, b)\n",
    "    if activation:\n",
    "        conv = activation(conv)\n",
    "    return conv\n",
    "\n",
    "\n",
    "def fully_connected_layer(x, w, b, activation=None):\n",
    "    layer = tf.add(tf.matmul(x, w), b)\n",
    "    if activation:\n",
    "        layer = activation(layer)\n",
    "    return layer\n"
   ]
  },
  {
   "cell_type": "code",
   "execution_count": 121,
   "metadata": {},
   "outputs": [],
   "source": [
    "def preprocess(x):\n",
    "    ### Preprocess steps\n",
    "    # check https://www.tensorflow.org/api_docs/python/tf/image\n",
    "    # gray = tf.image.rgb_to_grayscale(x)\n",
    "    normalize = tf.divide(tf.subtract(x, 128.0), 128.0)\n",
    "\n",
    "    return normalize\n",
    "\n",
    "n_channels = 3  # 1 if converted to grayscale\n",
    "\n",
    "\n",
    "\n",
    "def nn_arch_v1(x, keep_prob):\n",
    "    \n",
    "    # get the preprocessor step\n",
    "    p = preprocess(x)\n",
    "    \n",
    "    ### Convolutional layers\n",
    "    # conv 1 - input 32x32xn_channels - output 28x28x6\n",
    "    conv1 = convolutonal_layer(p,\n",
    "                           random_variable((5, 5, n_channels, 6)),\n",
    "                           zero_variable((6,)),\n",
    "                           [1, 1, 1, 1],\n",
    "                           'VALID',\n",
    "                           tf.nn.relu)\n",
    "    \n",
    "    # poll conv 1 - input 28x28x6 - output 14x14x6\n",
    "    poll1 = tf.nn.max_pool(conv1, ksize=[1, 2, 2, 1], strides=[1, 2, 2, 1], padding='VALID')\n",
    "    \n",
    "    # conv 2 - input 14x14x6 - output 10x10x16\n",
    "    # conv 2\n",
    "    conv2 = convolutonal_layer(poll1,\n",
    "                           random_variable((5, 5, 6, 16)),\n",
    "                           zero_variable((16,)),\n",
    "                           [1, 1, 1, 1],\n",
    "                           'VALID',\n",
    "                           tf.nn.relu)\n",
    "    # poll conv 2 - input 10x10x16 - output 5x5x16\n",
    "    poll2 = tf.nn.max_pool(conv2, ksize=[1, 2, 2, 1], strides=[1, 2, 2, 1], padding='VALID')\n",
    "    \n",
    "    # conv 3 - input 5x5x16 - output 1x1x400\n",
    "    # conv 3\n",
    "    conv3 = convolutonal_layer(poll2,\n",
    "                           random_variable((5, 5, 16, 400)),\n",
    "                           zero_variable((400,)),\n",
    "                           [1, 1, 1, 1],\n",
    "                           'VALID',\n",
    "                           tf.nn.relu)\n",
    "    \n",
    "    \n",
    "    ### flatten poll 2 - input 5x5x16 - output 1x400\n",
    "    flatten_poll2 = tf.contrib.layers.flatten(poll2)\n",
    "    \n",
    "    \n",
    "    ### flatten conv 3 - input 1x1x400 - output 1x400\n",
    "    flatten_conv3 = tf.contrib.layers.flatten(conv3)\n",
    "    \n",
    "    \n",
    "    ### concat - input1 1x400 - input2 1x400 - output 1x800\n",
    "    concat = tf.concat([flatten_poll2, flatten_conv3], 1)\n",
    "    \n",
    "    # dropout 1\n",
    "    concat = tf.nn.dropout(concat, keep_prob)\n",
    "    \n",
    "    \n",
    "    ### fully connected nn\n",
    "    # layer 1 - input 1x800 - output 1x400\n",
    "    layer1 = fully_connected_layer(concat,\n",
    "                                   random_variable((800, 400)),\n",
    "                                   zero_variable((400,)),\n",
    "                                   tf.nn.relu)\n",
    "    \n",
    "    # dropout 2\n",
    "    layer1 = tf.nn.dropout(layer1, keep_prob)\n",
    "    \n",
    "    # layer 2 - input 1x400 - output 1x100\n",
    "    layer2 = fully_connected_layer(layer1,\n",
    "                                   random_variable((400, 100)),\n",
    "                                   zero_variable((100,)),\n",
    "                                   tf.nn.relu)\n",
    "    # dropout 3\n",
    "    layer2 = tf.nn.dropout(layer2, keep_prob)\n",
    "    \n",
    "    # layer 3 - input 1x100 - output 1x43\n",
    "    layer3 = fully_connected_layer(layer2,\n",
    "                                   random_variable((100, n_classes)),\n",
    "                                   zero_variable((n_classes,)),\n",
    "                                   None)\n",
    "    \n",
    "    return layer3"
   ]
  },
  {
   "cell_type": "code",
   "execution_count": 122,
   "metadata": {},
   "outputs": [],
   "source": [
    "# choose model to use\n",
    "tscn = nn_arch_v1"
   ]
  },
  {
   "cell_type": "markdown",
   "metadata": {},
   "source": [
    "### Train, Validate and Test the Model"
   ]
  },
  {
   "cell_type": "markdown",
   "metadata": {},
   "source": [
    "A validation set can be used to assess how well the model is performing. A low accuracy on the training and validation\n",
    "sets imply underfitting. A high accuracy on the training set but low accuracy on the validation set implies overfitting."
   ]
  },
  {
   "cell_type": "code",
   "execution_count": 123,
   "metadata": {},
   "outputs": [],
   "source": [
    "### Train your model here.\n",
    "### Calculate and report the accuracy on the training and validation set.\n",
    "### Once a final model architecture is selected, \n",
    "### the accuracy on the test set should be calculated and reported as well.\n",
    "### Feel free to use as many code cells as needed."
   ]
  },
  {
   "cell_type": "code",
   "execution_count": 124,
   "metadata": {},
   "outputs": [],
   "source": [
    "### features and labels\n",
    "\n",
    "# Prepare the placeholders\n",
    "x = tf.placeholder(tf.float32, (None,) + image_shape)  # (None, 32, 32, 3)\n",
    "keep_prob = tf.placeholder(tf.float32) # probability to keep units\n",
    "y = tf.placeholder(tf.int32, (None))  # (none, 43) (one hot encoding)\n",
    "y_one_hot = tf.one_hot(y, n_classes)\n",
    "\n",
    "### logits\n",
    "logits = tscn(x, keep_prob)"
   ]
  },
  {
   "cell_type": "code",
   "execution_count": 125,
   "metadata": {},
   "outputs": [],
   "source": [
    "### Model evaluation function\n",
    "\n",
    "def evaluate(x_data, y_data, batch_size):\n",
    "    # check if predictions are correct\n",
    "    correct_prediction = tf.equal(tf.argmax(logits, 1), tf.argmax(y_one_hot, 1))\n",
    "    # calculate the mean after casting to a float32\n",
    "    accuracy_operation = tf.reduce_mean(tf.cast(correct_prediction, tf.float32))\n",
    "    \n",
    "    # number of samples\n",
    "    num_examples = len(x_data)\n",
    "    # to calculate the sum of the accuracy\n",
    "    total_accuracy = 0\n",
    "    # get a session to perform the calculation\n",
    "    sess = tf.get_default_session()\n",
    "    # run through the data in batches\n",
    "    for offset in range(0, num_examples, batch_size):\n",
    "        # slicing the date to get the batches\n",
    "        accuracy = sess.run(accuracy_operation, feed_dict={x: x_data[offset:offset+batch_size],\n",
    "                                                           y: y_data[offset:offset+batch_size],\n",
    "                                                           keep_prob:1.0})\n",
    "        # update the accuracy\n",
    "        total_accuracy += (accuracy * len(x_data[offset:offset+batch_size]))\n",
    "    # return the accuracy\n",
    "    return total_accuracy / num_examples"
   ]
  },
  {
   "cell_type": "code",
   "execution_count": 126,
   "metadata": {},
   "outputs": [],
   "source": [
    "### Model training function\n",
    "\n",
    "\n",
    "def train(model, train_data, eval_data, restore=False, **kwargs):\n",
    "\n",
    "    # get the optimizer\n",
    "    cross_entropy = tf.nn.softmax_cross_entropy_with_logits(labels=y_one_hot, logits=logits)\n",
    "    loss_operation = tf.reduce_mean(cross_entropy)\n",
    "    optimizer = tf.train.AdamOptimizer(learning_rate=kwargs['learning_rate'])\n",
    "    training_operation = optimizer.minimize(loss_operation)\n",
    "    \n",
    "    # instanciate a saver\n",
    "    saver = tf.train.Saver()\n",
    "    \n",
    "    # open the session\n",
    "    with tf.Session() as sess:\n",
    "        \n",
    "        # try to read previously saved model\n",
    "        if restore:\n",
    "            try:\n",
    "                saver.restore(sess, kwargs['save_path'])\n",
    "            except Exception as e:\n",
    "                print(e)\n",
    "            \n",
    "        # initialize random variables\n",
    "        sess.run(tf.global_variables_initializer())\n",
    "        # number of examples\n",
    "        num_examples = len(train_data[0])\n",
    "\n",
    "        print(\"Training...\")\n",
    "        print()\n",
    "        # for every epoch\n",
    "        for i in range(kwargs['epochs']):\n",
    "            # shuffle the data\n",
    "            x_train, y_train = shuffle(train_data[0], train_data[1])\n",
    "            # for every batch in the epoch\n",
    "            for offset in range(0, num_examples, kwargs['batch_size']):\n",
    "                # run the optimizer\n",
    "                sess.run(training_operation, feed_dict={x: x_train[offset:offset+kwargs['batch_size']],\n",
    "                                                 y: y_train[offset:offset+kwargs['batch_size']],\n",
    "                                                 keep_prob:kwargs['keep_prob']})\n",
    "            # calculate accuracy\n",
    "            validation_accuracy = evaluate(eval_data[0], eval_data[1], kwargs['batch_size'])\n",
    "            print(\"EPOCH {} ...\".format(i+1))\n",
    "            print(\"Validation Accuracy = {:.3f}\".format(validation_accuracy))\n",
    "            print()\n",
    "        \n",
    "        # save the trained model\n",
    "        saver.save(sess, kwargs['save_path'])\n",
    "        print(\"Model saved\")"
   ]
  },
  {
   "cell_type": "code",
   "execution_count": 130,
   "metadata": {},
   "outputs": [
    {
     "name": "stdout",
     "output_type": "stream",
     "text": [
      "Training...\n",
      "\n",
      "EPOCH 1 ...\n",
      "Validation Accuracy = 0.310\n",
      "\n",
      "EPOCH 2 ...\n",
      "Validation Accuracy = 0.586\n",
      "\n",
      "EPOCH 3 ...\n",
      "Validation Accuracy = 0.756\n",
      "\n",
      "EPOCH 4 ...\n",
      "Validation Accuracy = 0.838\n",
      "\n",
      "EPOCH 5 ...\n",
      "Validation Accuracy = 0.894\n",
      "\n",
      "EPOCH 6 ...\n",
      "Validation Accuracy = 0.906\n",
      "\n",
      "EPOCH 7 ...\n",
      "Validation Accuracy = 0.912\n",
      "\n",
      "EPOCH 8 ...\n",
      "Validation Accuracy = 0.924\n",
      "\n",
      "EPOCH 9 ...\n",
      "Validation Accuracy = 0.931\n",
      "\n",
      "EPOCH 10 ...\n",
      "Validation Accuracy = 0.940\n",
      "\n",
      "EPOCH 11 ...\n",
      "Validation Accuracy = 0.939\n",
      "\n",
      "EPOCH 12 ...\n",
      "Validation Accuracy = 0.948\n",
      "\n",
      "EPOCH 13 ...\n",
      "Validation Accuracy = 0.947\n",
      "\n",
      "EPOCH 14 ...\n",
      "Validation Accuracy = 0.946\n",
      "\n",
      "EPOCH 15 ...\n",
      "Validation Accuracy = 0.944\n",
      "\n",
      "EPOCH 16 ...\n",
      "Validation Accuracy = 0.950\n",
      "\n",
      "EPOCH 17 ...\n",
      "Validation Accuracy = 0.948\n",
      "\n",
      "EPOCH 18 ...\n",
      "Validation Accuracy = 0.951\n",
      "\n",
      "EPOCH 19 ...\n",
      "Validation Accuracy = 0.946\n",
      "\n",
      "EPOCH 20 ...\n",
      "Validation Accuracy = 0.951\n",
      "\n",
      "EPOCH 21 ...\n",
      "Validation Accuracy = 0.956\n",
      "\n",
      "EPOCH 22 ...\n",
      "Validation Accuracy = 0.948\n",
      "\n",
      "EPOCH 23 ...\n",
      "Validation Accuracy = 0.955\n",
      "\n",
      "EPOCH 24 ...\n",
      "Validation Accuracy = 0.954\n",
      "\n",
      "EPOCH 25 ...\n",
      "Validation Accuracy = 0.955\n",
      "\n",
      "EPOCH 26 ...\n",
      "Validation Accuracy = 0.957\n",
      "\n",
      "EPOCH 27 ...\n",
      "Validation Accuracy = 0.955\n",
      "\n",
      "EPOCH 28 ...\n",
      "Validation Accuracy = 0.954\n",
      "\n",
      "EPOCH 29 ...\n",
      "Validation Accuracy = 0.955\n",
      "\n",
      "EPOCH 30 ...\n",
      "Validation Accuracy = 0.959\n",
      "\n",
      "Model saved\n"
     ]
    }
   ],
   "source": [
    "### Training the model\n",
    "\n",
    "training_args = {'epochs': 30,\n",
    "                'batch_size': 500,\n",
    "                'keep_prob': 0.5,\n",
    "                'learning_rate':0.001,\n",
    "                'save_path': './tscn.ckpt'}\n",
    "\n",
    "train(tscn, (X_train, y_train), (X_valid, y_valid), True, **training_args)\n"
   ]
  },
  {
   "cell_type": "code",
   "execution_count": 132,
   "metadata": {},
   "outputs": [
    {
     "name": "stdout",
     "output_type": "stream",
     "text": [
      "INFO:tensorflow:Restoring parameters from ./tscn.ckpt\n",
      "Test Accuracy = 0.948\n"
     ]
    }
   ],
   "source": [
    "### Test the model\n",
    "def test(x_data, y_data, batch_size):\n",
    "    with tf.Session() as sess:\n",
    "        # instanciate a saver\n",
    "        saver = tf.train.Saver()\n",
    "        saver.restore(sess, './tscn.ckpt')\n",
    "\n",
    "        test_accuracy = evaluate(x_data, y_data, batch_size)\n",
    "        print(\"Test Accuracy = {:.3f}\".format(test_accuracy))\n",
    "\n",
    "test(X_test, y_test, training_args['batch_size'])"
   ]
  },
  {
   "cell_type": "markdown",
   "metadata": {},
   "source": [
    "---\n",
    "\n",
    "## Step 3: Test a Model on New Images\n",
    "\n",
    "To give yourself more insight into how your model is working, download at least five pictures of German traffic signs from the web and use your model to predict the traffic sign type.\n",
    "\n",
    "You may find `signnames.csv` useful as it contains mappings from the class id (integer) to the actual sign name."
   ]
  },
  {
   "cell_type": "markdown",
   "metadata": {},
   "source": [
    "### Load and Output the Images"
   ]
  },
  {
   "cell_type": "code",
   "execution_count": 161,
   "metadata": {
    "scrolled": true
   },
   "outputs": [
    {
     "data": {
      "image/png": "[encoded data removed]",
      "text/plain": [
       "<matplotlib.figure.Figure at 0x7fda9ca56518>"
      ]
     },
     "metadata": {
      "needs_background": "light"
     },
     "output_type": "display_data"
    }
   ],
   "source": [
    "### Load the images and plot them here.\n",
    "### Feel free to use as many code cells as needed.\n",
    "import cv2\n",
    "import pathlib\n",
    "\n",
    "X_new = []\n",
    "y_new = []\n",
    "directory = pathlib.Path('./images')\n",
    "n_images = len(list(directory.glob('*.jpeg')))\n",
    "cols = 8\n",
    "rows = int(n_images/cols)+1\n",
    "for index, f in enumerate(directory.glob('*.jpeg')):\n",
    "    img = plt.imread(str(f.resolve()))\n",
    "    img = cv2.resize(img, dsize=(32, 32), interpolation=cv2.INTER_CUBIC)\n",
    "    label = int(f.name[2:4])\n",
    "    X_new.append(img)\n",
    "    y_new.append(label)\n",
    "    plt.subplot(rows, cols, index+1)\n",
    "    plt.imshow(img)\n",
    "plt.show()\n",
    "X_new = np.array(X_new)\n",
    "y_new = np.array(y_new)"
   ]
  },
  {
   "cell_type": "markdown",
   "metadata": {},
   "source": [
    "### Predict the Sign Type for Each Image"
   ]
  },
  {
   "cell_type": "code",
   "execution_count": 171,
   "metadata": {},
   "outputs": [
    {
     "name": "stdout",
     "output_type": "stream",
     "text": [
      "INFO:tensorflow:Restoring parameters from ./tscn.ckpt\n",
      "predictions ->  [40 40 17  9 32 14 13 28  2 14 12 14]\n",
      "labels      ->  [40  7 17  2 32 14 13 28  1 17 12 14]\n"
     ]
    }
   ],
   "source": [
    "### Run the predictions here and use the model to output the prediction for each image.\n",
    "### Make sure to pre-process the images with the same pre-processing pipeline used earlier.\n",
    "### Feel free to use as many code cells as needed.\n",
    "with tf.Session() as sess:\n",
    "    # instanciate a saver\n",
    "    saver = tf.train.Saver()\n",
    "    saver.restore(sess, './tscn.ckpt')\n",
    "    prob = tf.argmax(tf.nn.softmax(logits), 1)\n",
    "    predictions = sess.run(prob, feed_dict={x:X_new, keep_prob:1.0})\n",
    "    print('predictions -> ', predictions)\n",
    "    print('labels      -> ', y_new)"
   ]
  },
  {
   "cell_type": "markdown",
   "metadata": {},
   "source": [
    "### Analyze Performance"
   ]
  },
  {
   "cell_type": "code",
   "execution_count": 162,
   "metadata": {},
   "outputs": [
    {
     "name": "stdout",
     "output_type": "stream",
     "text": [
      "INFO:tensorflow:Restoring parameters from ./tscn.ckpt\n",
      "Test Accuracy = 0.667\n"
     ]
    }
   ],
   "source": [
    "### Calculate the accuracy for these 5 new images. \n",
    "### For example, if the model predicted 1 out of 5 signs correctly, it's 20% accurate on these new images.\n",
    "test(X_new, y_new, training_args['batch_size'])"
   ]
  },
  {
   "cell_type": "markdown",
   "metadata": {},
   "source": [
    "### Output Top 5 Softmax Probabilities For Each Image Found on the Web"
   ]
  },
  {
   "cell_type": "markdown",
   "metadata": {},
   "source": [
    "For each of the new images, print out the model's softmax probabilities to show the **certainty** of the model's predictions (limit the output to the top 5 probabilities for each image). [`tf.nn.top_k`](https://www.tensorflow.org/versions/r0.12/api_docs/python/nn.html#top_k) could prove helpful here. \n",
    "\n",
    "The example below demonstrates how tf.nn.top_k can be used to find the top k predictions for each image.\n",
    "\n",
    "`tf.nn.top_k` will return the values and indices (class ids) of the top k predictions. So if k=3, for each sign, it'll return the 3 largest probabilities (out of a possible 43) and the correspoding class ids.\n",
    "\n",
    "Take this numpy array as an example. The values in the array represent predictions. The array contains softmax probabilities for five candidate images with six possible classes. `tf.nn.top_k` is used to choose the three classes with the highest probability:\n",
    "\n",
    "```\n",
    "# (5, 6) array\n",
    "a = np.array([[ 0.24879643,  0.07032244,  0.12641572,  0.34763842,  0.07893497,\n",
    "         0.12789202],\n",
    "       [ 0.28086119,  0.27569815,  0.08594638,  0.0178669 ,  0.18063401,\n",
    "         0.15899337],\n",
    "       [ 0.26076848,  0.23664738,  0.08020603,  0.07001922,  0.1134371 ,\n",
    "         0.23892179],\n",
    "       [ 0.11943333,  0.29198961,  0.02605103,  0.26234032,  0.1351348 ,\n",
    "         0.16505091],\n",
    "       [ 0.09561176,  0.34396535,  0.0643941 ,  0.16240774,  0.24206137,\n",
    "         0.09155967]])\n",
    "```\n",
    "\n",
    "Running it through `sess.run(tf.nn.top_k(tf.constant(a), k=3))` produces:\n",
    "\n",
    "```\n",
    "TopKV2(values=array([[ 0.34763842,  0.24879643,  0.12789202],\n",
    "       [ 0.28086119,  0.27569815,  0.18063401],\n",
    "       [ 0.26076848,  0.23892179,  0.23664738],\n",
    "       [ 0.29198961,  0.26234032,  0.16505091],\n",
    "       [ 0.34396535,  0.24206137,  0.16240774]]), indices=array([[3, 0, 5],\n",
    "       [0, 1, 4],\n",
    "       [0, 5, 1],\n",
    "       [1, 3, 5],\n",
    "       [1, 4, 3]], dtype=int32))\n",
    "```\n",
    "\n",
    "Looking just at the first row we get `[ 0.34763842,  0.24879643,  0.12789202]`, you can confirm these are the 3 largest probabilities in `a`. You'll also notice `[3, 0, 5]` are the corresponding indices."
   ]
  },
  {
   "cell_type": "code",
   "execution_count": 176,
   "metadata": {},
   "outputs": [
    {
     "name": "stdout",
     "output_type": "stream",
     "text": [
      "INFO:tensorflow:Restoring parameters from ./tscn.ckpt\n",
      "[[  9.99799550e-01   1.72000233e-04   1.44312780e-05   8.28716929e-06\n",
      "    4.58010300e-06]\n",
      " [  8.78756404e-01   7.73936808e-02   1.36698727e-02   1.04282871e-02\n",
      "    5.92209864e-03]\n",
      " [  1.00000000e+00   1.82458298e-10   1.18615238e-16   2.47578615e-17\n",
      "    1.72412243e-18]\n",
      " [  6.88669086e-01   1.78396896e-01   8.36542621e-02   2.71882359e-02\n",
      "    1.73807424e-02]\n",
      " [  9.97394562e-01   7.51293090e-04   6.98779128e-04   4.10292676e-04\n",
      "    3.20249208e-04]\n",
      " [  1.00000000e+00   2.93418871e-08   2.73605755e-25   1.77941475e-26\n",
      "    1.46830768e-28]\n",
      " [  1.00000000e+00   0.00000000e+00   0.00000000e+00   0.00000000e+00\n",
      "    0.00000000e+00]\n",
      " [  9.95687306e-01   2.94705457e-03   2.80354463e-04   2.65158276e-04\n",
      "    2.62829446e-04]\n",
      " [  7.24338174e-01   2.75657088e-01   4.58991371e-06   1.69887144e-07\n",
      "    4.21901047e-09]\n",
      " [  9.99988556e-01   1.14090944e-05   2.15400302e-08   1.07983078e-09\n",
      "    6.16183882e-10]\n",
      " [  1.00000000e+00   6.51428350e-29   2.97507717e-32   0.00000000e+00\n",
      "    0.00000000e+00]\n",
      " [  9.99999881e-01   1.19688224e-07   1.02180153e-13   3.60549705e-14\n",
      "    7.06824388e-15]]\n"
     ]
    }
   ],
   "source": [
    "### Print out the top five softmax probabilities for the predictions on the German traffic sign images found on the web. \n",
    "### Feel free to use as many code cells as needed.\n",
    "with tf.Session() as sess:\n",
    "    # instanciate a saver\n",
    "    saver = tf.train.Saver()\n",
    "    saver.restore(sess, './tscn.ckpt')\n",
    "    prob_5 = tf.nn.top_k(tf.nn.softmax(logits), 5)\n",
    "    predictions = sess.run(prob_5, feed_dict={x:X_new, keep_prob:1.0})\n",
    "    print(predictions[0])"
   ]
  },
  {
   "cell_type": "markdown",
   "metadata": {},
   "source": [
    "### Project Writeup\n",
    "\n",
    "Once you have completed the code implementation, document your results in a project writeup using this [template](https://github.com/udacity/CarND-Traffic-Sign-Classifier-Project/blob/master/writeup_template.md) as a guide. The writeup can be in a markdown or pdf file. "
   ]
  },
  {
   "cell_type": "markdown",
   "metadata": {},
   "source": [
    "> **Note**: Once you have completed all of the code implementations and successfully answered each question above, you may finalize your work by exporting the iPython Notebook as an HTML document. You can do this by using the menu above and navigating to  \\n\",\n",
    "    \"**File -> Download as -> HTML (.html)**. Include the finished document along with this notebook as your submission."
   ]
  },
  {
   "cell_type": "markdown",
   "metadata": {},
   "source": [
    "---\n",
    "\n",
    "## Step 4 (Optional): Visualize the Neural Network's State with Test Images\n",
    "\n",
    " This Section is not required to complete but acts as an additional excersise for understaning the output of a neural network's weights. While neural networks can be a great learning device they are often referred to as a black box. We can understand what the weights of a neural network look like better by plotting their feature maps. After successfully training your neural network you can see what it's feature maps look like by plotting the output of the network's weight layers in response to a test stimuli image. From these plotted feature maps, it's possible to see what characteristics of an image the network finds interesting. For a sign, maybe the inner network feature maps react with high activation to the sign's boundary outline or to the contrast in the sign's painted symbol.\n",
    "\n",
    " Provided for you below is the function code that allows you to get the visualization output of any tensorflow weight layer you want. The inputs to the function should be a stimuli image, one used during training or a new one you provided, and then the tensorflow variable name that represents the layer's state during the training process, for instance if you wanted to see what the [LeNet lab's](https://classroom.udacity.com/nanodegrees/nd013/parts/fbf77062-5703-404e-b60c-95b78b2f3f9e/modules/6df7ae49-c61c-4bb2-a23e-6527e69209ec/lessons/601ae704-1035-4287-8b11-e2c2716217ad/concepts/d4aca031-508f-4e0b-b493-e7b706120f81) feature maps looked like for it's second convolutional layer you could enter conv2 as the tf_activation variable.\n",
    "\n",
    "For an example of what feature map outputs look like, check out NVIDIA's results in their paper [End-to-End Deep Learning for Self-Driving Cars](https://devblogs.nvidia.com/parallelforall/deep-learning-self-driving-cars/) in the section Visualization of internal CNN State. NVIDIA was able to show that their network's inner weights had high activations to road boundary lines by comparing feature maps from an image with a clear path to one without. Try experimenting with a similar test to show that your trained network's weights are looking for interesting features, whether it's looking at differences in feature maps from images with or without a sign, or even what feature maps look like in a trained network vs a completely untrained one on the same sign image.\n",
    "\n",
    "<figure>\n",
    " <img src=\"visualize_cnn.png\" width=\"380\" alt=\"Combined Image\" />\n",
    " <figcaption>\n",
    " <p></p> \n",
    " <p style=\"text-align: center;\"> Your output should look something like this (above)</p> \n",
    " </figcaption>\n",
    "</figure>\n",
    " <p></p> \n"
   ]
  },
  {
   "cell_type": "code",
   "execution_count": null,
   "metadata": {
    "collapsed": true
   },
   "outputs": [],
   "source": [
    "### Visualize your network's feature maps here.\n",
    "### Feel free to use as many code cells as needed.\n",
    "\n",
    "# image_input: the test image being fed into the network to produce the feature maps\n",
    "# tf_activation: should be a tf variable name used during your training procedure that represents the calculated state of a specific weight layer\n",
    "# activation_min/max: can be used to view the activation contrast in more detail, by default matplot sets min and max to the actual min and max values of the output\n",
    "# plt_num: used to plot out multiple different weight feature map sets on the same block, just extend the plt number for each new feature map entry\n",
    "\n",
    "def outputFeatureMap(image_input, tf_activation, activation_min=-1, activation_max=-1 ,plt_num=1):\n",
    "    # Here make sure to preprocess your image_input in a way your network expects\n",
    "    # with size, normalization, ect if needed\n",
    "    # image_input =\n",
    "    # Note: x should be the same name as your network's tensorflow data placeholder variable\n",
    "    # If you get an error tf_activation is not defined it may be having trouble accessing the variable from inside a function\n",
    "    activation = tf_activation.eval(session=sess,feed_dict={x : image_input})\n",
    "    featuremaps = activation.shape[3]\n",
    "    plt.figure(plt_num, figsize=(15,15))\n",
    "    for featuremap in range(featuremaps):\n",
    "        plt.subplot(6,8, featuremap+1) # sets the number of feature maps to show on each row and column\n",
    "        plt.title('FeatureMap ' + str(featuremap)) # displays the feature map number\n",
    "        if activation_min != -1 & activation_max != -1:\n",
    "            plt.imshow(activation[0,:,:, featuremap], interpolation=\"nearest\", vmin =activation_min, vmax=activation_max, cmap=\"gray\")\n",
    "        elif activation_max != -1:\n",
    "            plt.imshow(activation[0,:,:, featuremap], interpolation=\"nearest\", vmax=activation_max, cmap=\"gray\")\n",
    "        elif activation_min !=-1:\n",
    "            plt.imshow(activation[0,:,:, featuremap], interpolation=\"nearest\", vmin=activation_min, cmap=\"gray\")\n",
    "        else:\n",
    "            plt.imshow(activation[0,:,:, featuremap], interpolation=\"nearest\", cmap=\"gray\")"
   ]
  }
 ],
 "metadata": {
  "anaconda-cloud": {},
  "kernelspec": {
   "display_name": "Python 3",
   "language": "python",
   "name": "python3"
  },
  "language_info": {
   "codemirror_mode": {
    "name": "ipython",
    "version": 3
   },
   "file_extension": ".py",
   "mimetype": "text/x-python",
   "name": "python",
   "nbconvert_exporter": "python",
   "pygments_lexer": "ipython3",
   "version": "3.5.2"
  },
  "widgets": {
   "state": {},
   "version": "1.1.2"
  }
 },
 "nbformat": 4,
 "nbformat_minor": 1
}
